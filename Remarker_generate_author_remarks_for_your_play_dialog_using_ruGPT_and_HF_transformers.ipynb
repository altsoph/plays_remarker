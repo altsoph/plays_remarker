{
  "nbformat": 4,
  "nbformat_minor": 0,
  "metadata": {
    "accelerator": "GPU",
    "colab": {
      "name": "Remarker: generate author remarks for your play dialog using ruGPT and HF transformers",
      "provenance": [],
      "collapsed_sections": [
        "IbJPRYovMueo",
        "WqwZiumW8WbZ",
        "zoyX62qN_38l",
        "K7_jIWhVBKay"
      ],
      "include_colab_link": true
    },
    "kernelspec": {
      "display_name": "Python 3",
      "language": "python",
      "name": "python3"
    },
    "language_info": {
      "codemirror_mode": {
        "name": "ipython",
        "version": 3
      },
      "file_extension": ".py",
      "mimetype": "text/x-python",
      "name": "python",
      "nbconvert_exporter": "python",
      "pygments_lexer": "ipython3",
      "version": "3.7.8"
    }
  },
  "cells": [
    {
      "cell_type": "markdown",
      "metadata": {
        "id": "view-in-github",
        "colab_type": "text"
      },
      "source": [
        "<a href=\"https://colab.research.google.com/github/altsoph/plays_remarker/blob/main/Remarker_generate_author_remarks_for_your_play_dialog_using_ruGPT_and_HF_transformers.ipynb\" target=\"_parent\"><img src=\"https://colab.research.google.com/assets/colab-badge.svg\" alt=\"Open In Colab\"/></a>"
      ]
    },
    {
      "cell_type": "markdown",
      "metadata": {
        "id": "BO7MEGbb6mtB"
      },
      "source": [
        "# Remarker \n",
        "## Generate author remarks for your play dialog using ruGPT and HF transformers!\n",
        "\n",
        "## Made by altsoph, feel free to reach me:\n",
        "## https://twitter.com/altsoph\n",
        "## https://t.me/altsoph\n",
        "## http://altsoph.com"
      ]
    },
    {
      "cell_type": "markdown",
      "metadata": {
        "id": "IbJPRYovMueo"
      },
      "source": [
        "## Install env"
      ]
    },
    {
      "cell_type": "code",
      "metadata": {
        "id": "H73-Pizb6c8n",
        "colab": {
          "base_uri": "https://localhost:8080/"
        },
        "outputId": "bc5fc12d-2c92-4c39-b1b6-7991602ce554"
      },
      "source": [
        "!pip install torch==1.4.0\n",
        "!pip3 install transformers==3.5.0"
      ],
      "execution_count": 1,
      "outputs": [
        {
          "output_type": "stream",
          "text": [
            "Collecting torch==1.4.0\n",
            "\u001b[?25l  Downloading https://files.pythonhosted.org/packages/1a/3b/fa92ece1e58a6a48ec598bab327f39d69808133e5b2fb33002ca754e381e/torch-1.4.0-cp37-cp37m-manylinux1_x86_64.whl (753.4MB)\n",
            "\u001b[K     |████████████████████████████████| 753.4MB 21kB/s \n",
            "\u001b[31mERROR: torchvision 0.10.0+cu102 has requirement torch==1.9.0, but you'll have torch 1.4.0 which is incompatible.\u001b[0m\n",
            "\u001b[31mERROR: torchtext 0.10.0 has requirement torch==1.9.0, but you'll have torch 1.4.0 which is incompatible.\u001b[0m\n",
            "\u001b[?25hInstalling collected packages: torch\n",
            "  Found existing installation: torch 1.9.0+cu102\n",
            "    Uninstalling torch-1.9.0+cu102:\n",
            "      Successfully uninstalled torch-1.9.0+cu102\n",
            "Successfully installed torch-1.4.0\n",
            "Collecting transformers==3.5.0\n",
            "\u001b[?25l  Downloading https://files.pythonhosted.org/packages/9c/34/fb092588df61bf33f113ade030d1cbe74fb73a0353648f8dd938a223dce7/transformers-3.5.0-py3-none-any.whl (1.3MB)\n",
            "\u001b[K     |████████████████████████████████| 1.3MB 8.5MB/s \n",
            "\u001b[?25hRequirement already satisfied: numpy in /usr/local/lib/python3.7/dist-packages (from transformers==3.5.0) (1.19.5)\n",
            "Collecting sentencepiece==0.1.91\n",
            "\u001b[?25l  Downloading https://files.pythonhosted.org/packages/f2/e2/813dff3d72df2f49554204e7e5f73a3dc0f0eb1e3958a4cad3ef3fb278b7/sentencepiece-0.1.91-cp37-cp37m-manylinux1_x86_64.whl (1.1MB)\n",
            "\u001b[K     |████████████████████████████████| 1.1MB 50.3MB/s \n",
            "\u001b[?25hRequirement already satisfied: requests in /usr/local/lib/python3.7/dist-packages (from transformers==3.5.0) (2.23.0)\n",
            "Requirement already satisfied: tqdm>=4.27 in /usr/local/lib/python3.7/dist-packages (from transformers==3.5.0) (4.41.1)\n",
            "Requirement already satisfied: protobuf in /usr/local/lib/python3.7/dist-packages (from transformers==3.5.0) (3.12.4)\n",
            "Collecting sacremoses\n",
            "\u001b[?25l  Downloading https://files.pythonhosted.org/packages/75/ee/67241dc87f266093c533a2d4d3d69438e57d7a90abb216fa076e7d475d4a/sacremoses-0.0.45-py3-none-any.whl (895kB)\n",
            "\u001b[K     |████████████████████████████████| 901kB 44.7MB/s \n",
            "\u001b[?25hRequirement already satisfied: filelock in /usr/local/lib/python3.7/dist-packages (from transformers==3.5.0) (3.0.12)\n",
            "Requirement already satisfied: regex!=2019.12.17 in /usr/local/lib/python3.7/dist-packages (from transformers==3.5.0) (2019.12.20)\n",
            "Collecting tokenizers==0.9.3\n",
            "\u001b[?25l  Downloading https://files.pythonhosted.org/packages/7b/ac/f5ba028f0f097d855e1541301e946d4672eb0f30b6e25cb2369075f916d2/tokenizers-0.9.3-cp37-cp37m-manylinux1_x86_64.whl (2.9MB)\n",
            "\u001b[K     |████████████████████████████████| 2.9MB 45.7MB/s \n",
            "\u001b[?25hRequirement already satisfied: packaging in /usr/local/lib/python3.7/dist-packages (from transformers==3.5.0) (20.9)\n",
            "Requirement already satisfied: urllib3!=1.25.0,!=1.25.1,<1.26,>=1.21.1 in /usr/local/lib/python3.7/dist-packages (from requests->transformers==3.5.0) (1.24.3)\n",
            "Requirement already satisfied: certifi>=2017.4.17 in /usr/local/lib/python3.7/dist-packages (from requests->transformers==3.5.0) (2021.5.30)\n",
            "Requirement already satisfied: chardet<4,>=3.0.2 in /usr/local/lib/python3.7/dist-packages (from requests->transformers==3.5.0) (3.0.4)\n",
            "Requirement already satisfied: idna<3,>=2.5 in /usr/local/lib/python3.7/dist-packages (from requests->transformers==3.5.0) (2.10)\n",
            "Requirement already satisfied: setuptools in /usr/local/lib/python3.7/dist-packages (from protobuf->transformers==3.5.0) (57.0.0)\n",
            "Requirement already satisfied: six>=1.9 in /usr/local/lib/python3.7/dist-packages (from protobuf->transformers==3.5.0) (1.15.0)\n",
            "Requirement already satisfied: click in /usr/local/lib/python3.7/dist-packages (from sacremoses->transformers==3.5.0) (7.1.2)\n",
            "Requirement already satisfied: joblib in /usr/local/lib/python3.7/dist-packages (from sacremoses->transformers==3.5.0) (1.0.1)\n",
            "Requirement already satisfied: pyparsing>=2.0.2 in /usr/local/lib/python3.7/dist-packages (from packaging->transformers==3.5.0) (2.4.7)\n",
            "Installing collected packages: sentencepiece, sacremoses, tokenizers, transformers\n",
            "Successfully installed sacremoses-0.0.45 sentencepiece-0.1.91 tokenizers-0.9.3 transformers-3.5.0\n"
          ],
          "name": "stdout"
        }
      ]
    },
    {
      "cell_type": "code",
      "metadata": {
        "id": "RSV1JFFf6nrt",
        "colab": {
          "base_uri": "https://localhost:8080/"
        },
        "outputId": "bfb98401-2210-4a27-a334-b2109b69f2d8"
      },
      "source": [
        "!git clone  https://github.com/sberbank-ai/ru-gpts"
      ],
      "execution_count": 2,
      "outputs": [
        {
          "output_type": "stream",
          "text": [
            "Cloning into 'ru-gpts'...\n",
            "remote: Enumerating objects: 619, done.\u001b[K\n",
            "remote: Counting objects: 100% (114/114), done.\u001b[K\n",
            "remote: Compressing objects: 100% (55/55), done.\u001b[K\n",
            "remote: Total 619 (delta 69), reused 95 (delta 59), pack-reused 505\u001b[K\n",
            "Receiving objects: 100% (619/619), 366.72 KiB | 1.95 MiB/s, done.\n",
            "Resolving deltas: 100% (369/369), done.\n"
          ],
          "name": "stdout"
        }
      ]
    },
    {
      "cell_type": "code",
      "metadata": {
        "id": "WJZtWu8u6nwL"
      },
      "source": [
        "!mkdir models/"
      ],
      "execution_count": 3,
      "outputs": []
    },
    {
      "cell_type": "markdown",
      "metadata": {
        "id": "WqwZiumW8WbZ"
      },
      "source": [
        "## Download files"
      ]
    },
    {
      "cell_type": "code",
      "metadata": {
        "id": "j51bKtQW6nyY",
        "colab": {
          "base_uri": "https://localhost:8080/"
        },
        "outputId": "9e769391-ae99-4037-d2ba-dd90dea43661"
      },
      "source": [
        "!wget -O data.txt https://drive.google.com/u/0/uc?id=1QxbdBCJ66TJWRazuDCfmiIGt4mMpuzGr&export=download\n",
        "!head data.txt"
      ],
      "execution_count": 4,
      "outputs": [
        {
          "output_type": "stream",
          "text": [
            "--2021-07-02 09:57:47--  https://drive.google.com/u/0/uc?id=1QxbdBCJ66TJWRazuDCfmiIGt4mMpuzGr\n",
            "Resolving drive.google.com (drive.google.com)... 142.251.2.113, 142.251.2.139, 142.251.2.102, ...\n",
            "Connecting to drive.google.com (drive.google.com)|142.251.2.113|:443... connected.\n",
            "HTTP request sent, awaiting response... 302 Moved Temporarily\n",
            "Location: https://doc-0c-20-docs.googleusercontent.com/docs/securesc/ha0ro937gcuc7l7deffksulhg5h7mbp1/81fneclsp71ri1k6b13oi9sje34lo0ne/1625219850000/18029368614449056196/*/1QxbdBCJ66TJWRazuDCfmiIGt4mMpuzGr [following]\n",
            "Warning: wildcards not supported in HTTP.\n",
            "--2021-07-02 09:57:47--  https://doc-0c-20-docs.googleusercontent.com/docs/securesc/ha0ro937gcuc7l7deffksulhg5h7mbp1/81fneclsp71ri1k6b13oi9sje34lo0ne/1625219850000/18029368614449056196/*/1QxbdBCJ66TJWRazuDCfmiIGt4mMpuzGr\n",
            "Resolving doc-0c-20-docs.googleusercontent.com (doc-0c-20-docs.googleusercontent.com)... 142.251.2.132, 2607:f8b0:4023:c0d::84\n",
            "Connecting to doc-0c-20-docs.googleusercontent.com (doc-0c-20-docs.googleusercontent.com)|142.251.2.132|:443... connected.\n",
            "HTTP request sent, awaiting response... 200 OK\n",
            "Length: unspecified [text/plain]\n",
            "Saving to: ‘data.txt’\n",
            "\n",
            "data.txt                [  <=>               ]   2.95M  13.4MB/s    in 0.2s    \n",
            "\n",
            "2021-07-02 09:57:48 (13.4 MB/s) - ‘data.txt’ saved [3091672]\n",
            "\n",
            "<s>Фи… Филя? Умер?..<s>[потрясен]</s>\n",
            "<s>. Не могу я принять… эту… Блажь! Потерпишь чуток – и пройдёт!<s>[уверенно и требовательно]</s>\n",
            "<s>Я не возьму его в ученики. Мне ученики ни к чему. Это я так сказал, для поддержания беседы. Просто . Просто вы мне понравились, как люди. Такие странные.<s>[делает паузу]</s>\n",
            "<s>– Мы никогда не забудем их подвиг!<s>[хором]</s>\n",
            "<s>– Кто это?<s>[шепотом]</s>\n",
            "<s>И нечего смеяться, не всегда ж я таким дирижаблем была…<s>[обиженно]</s>\n",
            "<s>Анатолий Степанович, за что вы нас так?<s>[теряя самообладание, трясущимся, теряющим силу голосом]</s>\n",
            "<s>Нельзя! Закон! Мораторий!.. Законники! С вашими законами с голоду, гляди, помрёшь!<s>[презрительно]</s>\n",
            "<s>Батарейки эти сели, забыл зарядить. Я искал футболку, ездил на ВДНХ в фирменный магазин. Настоящая клубная, и гетры еще купил. А потом вспомнил, ты хотела миноги, там же нет миног?<s>[с пакетами в руках]</s>\n",
            "<s>А ну, вспомни, как с Миной на свадьбе показывали класс.<s>[сыну]</s>\n"
          ],
          "name": "stdout"
        }
      ]
    },
    {
      "cell_type": "markdown",
      "metadata": {
        "id": "zoyX62qN_38l"
      },
      "source": [
        "## Train \n",
        "The following code download our model and tokenizer from huggingface and finetune model for generating remarks.\n",
        "\n",
        "This took around 5 minutes, stay strong!"
      ]
    },
    {
      "cell_type": "code",
      "metadata": {
        "id": "aZ-4Kav28cH0",
        "colab": {
          "base_uri": "https://localhost:8080/"
        },
        "outputId": "3716c18c-7089-4381-eb1b-9015b3a3b359"
      },
      "source": [
        "!export PYTHONPATH=${PYTHONPATH}:/ru-gpts/\n",
        "!CUDA_VISIBLE_DEVICES=0 python ru-gpts/pretrain_transformers.py \\\n",
        "    --output_dir=models/remarks \\\n",
        "    --model_type=gpt2 \\\n",
        "    --model_name_or_path=sberbank-ai/rugpt3small_based_on_gpt2 \\\n",
        "    --do_train \\\n",
        "    --train_data_file=data.txt \\\n",
        "    --per_gpu_train_batch_size 1 \\\n",
        "    --gradient_accumulation_steps 1 \\\n",
        "    --num_train_epochs 1 \\\n",
        "    --block_size 2048 \\\n",
        "    --overwrite_output_dir"
      ],
      "execution_count": 5,
      "outputs": [
        {
          "output_type": "stream",
          "text": [
            "2021-07-02 09:58:08.825934: I tensorflow/stream_executor/platform/default/dso_loader.cc:53] Successfully opened dynamic library libcudart.so.11.0\n",
            "07/02/2021 09:58:11 - WARNING - __main__ -   Process rank: -1, device: cuda, n_gpu: 1, distributed training: False, 16-bits training: False\n",
            "07/02/2021 09:58:11 - INFO - filelock -   Lock 140249392254160 acquired on /root/.cache/torch/transformers/06f48b6b3173390d047e15d691fda67ae4ea7733a5eea4b6e0115f5099c4e700.b5cdfa39c63384f94159c36bc9042660c747cea5cf520b43d543bd2c68b3164d.lock\n",
            "Downloading: 100% 608/608 [00:00<00:00, 598kB/s]\n",
            "07/02/2021 09:58:11 - INFO - filelock -   Lock 140249392254160 released on /root/.cache/torch/transformers/06f48b6b3173390d047e15d691fda67ae4ea7733a5eea4b6e0115f5099c4e700.b5cdfa39c63384f94159c36bc9042660c747cea5cf520b43d543bd2c68b3164d.lock\n",
            "07/02/2021 09:58:12 - INFO - filelock -   Lock 140249392339088 acquired on /root/.cache/torch/transformers/1b36eeb1fd7b3a6ec11bf46bde2c38e7e68f71ec774694b9e886c86001aab35d.c483bc3440d25937fdac74506b73b76ee6e67f778a804756214363fc2a1a66ef.lock\n",
            "Downloading: 100% 1.71M/1.71M [00:00<00:00, 5.99MB/s]\n",
            "07/02/2021 09:58:13 - INFO - filelock -   Lock 140249392339088 released on /root/.cache/torch/transformers/1b36eeb1fd7b3a6ec11bf46bde2c38e7e68f71ec774694b9e886c86001aab35d.c483bc3440d25937fdac74506b73b76ee6e67f778a804756214363fc2a1a66ef.lock\n",
            "07/02/2021 09:58:13 - INFO - filelock -   Lock 140249391962640 acquired on /root/.cache/torch/transformers/479aa59074c4dcd4c36106252da033d03bc92e3010947ce1d3714de224c2af1f.7362c0dbb32f750eeea5a5b93bbd0c6876eac41453369265d5a49df1c9142b6f.lock\n",
            "Downloading: 100% 1.27M/1.27M [00:00<00:00, 4.49MB/s]\n",
            "07/02/2021 09:58:13 - INFO - filelock -   Lock 140249391962640 released on /root/.cache/torch/transformers/479aa59074c4dcd4c36106252da033d03bc92e3010947ce1d3714de224c2af1f.7362c0dbb32f750eeea5a5b93bbd0c6876eac41453369265d5a49df1c9142b6f.lock\n",
            "/usr/local/lib/python3.7/dist-packages/transformers/tokenization_utils_base.py:1423: FutureWarning: The `max_len` attribute has been deprecated and will be removed in a future version, use `model_max_length` instead.\n",
            "  FutureWarning,\n",
            "/usr/local/lib/python3.7/dist-packages/transformers/modeling_auto.py:837: FutureWarning: The class `AutoModelWithLMHead` is deprecated and will be removed in a future version. Please use `AutoModelForCausalLM` for causal language models, `AutoModelForMaskedLM` for masked language models and `AutoModelForSeq2SeqLM` for encoder-decoder models.\n",
            "  FutureWarning,\n",
            "07/02/2021 09:58:15 - INFO - filelock -   Lock 140249368677392 acquired on /root/.cache/torch/transformers/df2b64a4c86a349ba84354d85b7117b106f2b87085c9bb54cde70d3751907c45.4e3da19dd8adaa6d6a9804bfd45d2dcf17ba544de445847443ef1816bfa3d693.lock\n",
            "Downloading: 100% 551M/551M [00:09<00:00, 58.8MB/s]\n",
            "07/02/2021 09:58:25 - INFO - filelock -   Lock 140249368677392 released on /root/.cache/torch/transformers/df2b64a4c86a349ba84354d85b7117b106f2b87085c9bb54cde70d3751907c45.4e3da19dd8adaa6d6a9804bfd45d2dcf17ba544de445847443ef1816bfa3d693.lock\n",
            "07/02/2021 09:58:31 - INFO - __main__ -   Training/evaluation parameters Namespace(adam_epsilon=1e-08, block_size=2048, cache_dir=None, config_name=None, device=device(type='cuda'), do_eval=False, do_train=True, eval_all_checkpoints=False, eval_data_file=None, evaluate_during_training=False, fp16=False, fp16_opt_level='O1', gradient_accumulation_steps=1, learning_rate=5e-05, line_by_line=False, local_rank=-1, logging_steps=500, max_grad_norm=1.0, max_steps=-1, mlm=False, mlm_probability=0.15, model_name_or_path='sberbank-ai/rugpt3small_based_on_gpt2', model_type='gpt2', n_gpu=1, no_cuda=False, num_train_epochs=1.0, output_dir='models/remarks', overwrite_cache=False, overwrite_output_dir=True, per_gpu_eval_batch_size=4, per_gpu_train_batch_size=1, save_steps=500, save_total_limit=None, seed=42, server_ip='', server_port='', should_continue=False, tokenizer_name=None, train_data_file='data.txt', warmup_steps=0, weight_decay=0.01)\n",
            "07/02/2021 09:58:31 - INFO - __main__ -   Creating features from dataset file at \n",
            "07/02/2021 09:58:38 - INFO - __main__ -   Saving features into cached file gpt2_cached_lm_2048_data.txt\n",
            "07/02/2021 09:58:39 - INFO - __main__ -   ***** Running training *****\n",
            "07/02/2021 09:58:39 - INFO - __main__ -     Num examples = 330\n",
            "07/02/2021 09:58:39 - INFO - __main__ -     Num Epochs = 1\n",
            "07/02/2021 09:58:39 - INFO - __main__ -     Instantaneous batch size per GPU = 1\n",
            "07/02/2021 09:58:39 - INFO - __main__ -     Total train batch size (w. parallel, distributed & accumulation) = 1\n",
            "07/02/2021 09:58:39 - INFO - __main__ -     Gradient Accumulation steps = 1\n",
            "07/02/2021 09:58:39 - INFO - __main__ -     Total optimization steps = 330\n",
            "Epoch:   0% 0/1 [00:00<?, ?it/s]\n",
            "Iteration:   0% 0/330 [00:00<?, ?it/s]\u001b[A\n",
            "Iteration:   0% 1/330 [00:00<05:07,  1.07it/s]\u001b[A\n",
            "Iteration:   1% 2/330 [00:01<04:59,  1.10it/s]\u001b[A\n",
            "Iteration:   1% 3/330 [00:02<04:54,  1.11it/s]\u001b[A\n",
            "Iteration:   1% 4/330 [00:03<04:51,  1.12it/s]\u001b[A\n",
            "Iteration:   2% 5/330 [00:04<04:48,  1.13it/s]\u001b[A\n",
            "Iteration:   2% 6/330 [00:05<04:46,  1.13it/s]\u001b[A\n",
            "Iteration:   2% 7/330 [00:06<04:44,  1.13it/s]\u001b[A\n",
            "Iteration:   2% 8/330 [00:07<04:44,  1.13it/s]\u001b[A\n",
            "Iteration:   3% 9/330 [00:07<04:42,  1.14it/s]\u001b[A\n",
            "Iteration:   3% 10/330 [00:08<04:41,  1.14it/s]\u001b[A\n",
            "Iteration:   3% 11/330 [00:09<04:40,  1.14it/s]\u001b[A\n",
            "Iteration:   4% 12/330 [00:10<04:40,  1.14it/s]\u001b[A\n",
            "Iteration:   4% 13/330 [00:11<04:39,  1.13it/s]\u001b[A\n",
            "Iteration:   4% 14/330 [00:12<04:38,  1.13it/s]\u001b[A\n",
            "Iteration:   5% 15/330 [00:13<04:38,  1.13it/s]\u001b[A\n",
            "Iteration:   5% 16/330 [00:14<04:36,  1.13it/s]\u001b[A\n",
            "Iteration:   5% 17/330 [00:14<04:36,  1.13it/s]\u001b[A\n",
            "Iteration:   5% 18/330 [00:15<04:35,  1.13it/s]\u001b[A\n",
            "Iteration:   6% 19/330 [00:16<04:35,  1.13it/s]\u001b[A\n",
            "Iteration:   6% 20/330 [00:17<04:34,  1.13it/s]\u001b[A\n",
            "Iteration:   6% 21/330 [00:18<04:34,  1.13it/s]\u001b[A\n",
            "Iteration:   7% 22/330 [00:19<04:33,  1.13it/s]\u001b[A\n",
            "Iteration:   7% 23/330 [00:20<04:32,  1.13it/s]\u001b[A\n",
            "Iteration:   7% 24/330 [00:21<04:32,  1.12it/s]\u001b[A\n",
            "Iteration:   8% 25/330 [00:22<04:31,  1.12it/s]\u001b[A\n",
            "Iteration:   8% 26/330 [00:23<04:31,  1.12it/s]\u001b[A\n",
            "Iteration:   8% 27/330 [00:23<04:30,  1.12it/s]\u001b[A\n",
            "Iteration:   8% 28/330 [00:24<04:29,  1.12it/s]\u001b[A\n",
            "Iteration:   9% 29/330 [00:25<04:29,  1.12it/s]\u001b[A\n",
            "Iteration:   9% 30/330 [00:26<04:30,  1.11it/s]\u001b[A\n",
            "Iteration:   9% 31/330 [00:27<04:29,  1.11it/s]\u001b[A\n",
            "Iteration:  10% 32/330 [00:28<04:28,  1.11it/s]\u001b[A\n",
            "Iteration:  10% 33/330 [00:29<04:27,  1.11it/s]\u001b[A\n",
            "Iteration:  10% 34/330 [00:30<04:26,  1.11it/s]\u001b[A\n",
            "Iteration:  11% 35/330 [00:31<04:25,  1.11it/s]\u001b[A\n",
            "Iteration:  11% 36/330 [00:32<04:24,  1.11it/s]\u001b[A\n",
            "Iteration:  11% 37/330 [00:32<04:24,  1.11it/s]\u001b[A\n",
            "Iteration:  12% 38/330 [00:33<04:23,  1.11it/s]\u001b[A\n",
            "Iteration:  12% 39/330 [00:34<04:22,  1.11it/s]\u001b[A\n",
            "Iteration:  12% 40/330 [00:35<04:22,  1.11it/s]\u001b[A\n",
            "Iteration:  12% 41/330 [00:36<04:21,  1.10it/s]\u001b[A\n",
            "Iteration:  13% 42/330 [00:37<04:20,  1.11it/s]\u001b[A\n",
            "Iteration:  13% 43/330 [00:38<04:19,  1.11it/s]\u001b[A\n",
            "Iteration:  13% 44/330 [00:39<04:18,  1.10it/s]\u001b[A\n",
            "Iteration:  14% 45/330 [00:40<04:18,  1.10it/s]\u001b[A\n",
            "Iteration:  14% 46/330 [00:41<04:17,  1.10it/s]\u001b[A\n",
            "Iteration:  14% 47/330 [00:41<04:18,  1.10it/s]\u001b[A\n",
            "Iteration:  15% 48/330 [00:42<04:17,  1.10it/s]\u001b[A\n",
            "Iteration:  15% 49/330 [00:43<04:16,  1.10it/s]\u001b[A\n",
            "Iteration:  15% 50/330 [00:44<04:15,  1.10it/s]\u001b[A\n",
            "Iteration:  15% 51/330 [00:45<04:14,  1.10it/s]\u001b[A\n",
            "Iteration:  16% 52/330 [00:46<04:13,  1.10it/s]\u001b[A\n",
            "Iteration:  16% 53/330 [00:47<04:12,  1.09it/s]\u001b[A\n",
            "Iteration:  16% 54/330 [00:48<04:12,  1.09it/s]\u001b[A\n",
            "Iteration:  17% 55/330 [00:49<04:11,  1.09it/s]\u001b[A\n",
            "Iteration:  17% 56/330 [00:50<04:10,  1.09it/s]\u001b[A\n",
            "Iteration:  17% 57/330 [00:51<04:10,  1.09it/s]\u001b[A\n",
            "Iteration:  18% 58/330 [00:52<04:09,  1.09it/s]\u001b[A\n",
            "Iteration:  18% 59/330 [00:52<04:09,  1.09it/s]\u001b[A\n",
            "Iteration:  18% 60/330 [00:53<04:08,  1.09it/s]\u001b[A\n",
            "Iteration:  18% 61/330 [00:54<04:08,  1.08it/s]\u001b[A\n",
            "Iteration:  19% 62/330 [00:55<04:06,  1.09it/s]\u001b[A\n",
            "Iteration:  19% 63/330 [00:56<04:06,  1.08it/s]\u001b[A\n",
            "Iteration:  19% 64/330 [00:57<04:05,  1.08it/s]\u001b[A\n",
            "Iteration:  20% 65/330 [00:58<04:05,  1.08it/s]\u001b[A\n",
            "Iteration:  20% 66/330 [00:59<04:04,  1.08it/s]\u001b[A\n",
            "Iteration:  20% 67/330 [01:00<04:04,  1.07it/s]\u001b[A\n",
            "Iteration:  21% 68/330 [01:01<04:04,  1.07it/s]\u001b[A\n",
            "Iteration:  21% 69/330 [01:02<04:03,  1.07it/s]\u001b[A\n",
            "Iteration:  21% 70/330 [01:03<04:02,  1.07it/s]\u001b[A\n",
            "Iteration:  22% 71/330 [01:04<04:01,  1.07it/s]\u001b[A\n",
            "Iteration:  22% 72/330 [01:05<04:00,  1.07it/s]\u001b[A\n",
            "Iteration:  22% 73/330 [01:06<03:59,  1.07it/s]\u001b[A\n",
            "Iteration:  22% 74/330 [01:06<03:59,  1.07it/s]\u001b[A\n",
            "Iteration:  23% 75/330 [01:07<03:58,  1.07it/s]\u001b[A\n",
            "Iteration:  23% 76/330 [01:08<03:57,  1.07it/s]\u001b[A\n",
            "Iteration:  23% 77/330 [01:09<03:56,  1.07it/s]\u001b[A\n",
            "Iteration:  24% 78/330 [01:10<03:55,  1.07it/s]\u001b[A\n",
            "Iteration:  24% 79/330 [01:11<03:54,  1.07it/s]\u001b[A\n",
            "Iteration:  24% 80/330 [01:12<03:53,  1.07it/s]\u001b[A\n",
            "Iteration:  25% 81/330 [01:13<03:52,  1.07it/s]\u001b[A\n",
            "Iteration:  25% 82/330 [01:14<03:52,  1.07it/s]\u001b[A\n",
            "Iteration:  25% 83/330 [01:15<03:51,  1.07it/s]\u001b[A\n",
            "Iteration:  25% 84/330 [01:16<03:52,  1.06it/s]\u001b[A\n",
            "Iteration:  26% 85/330 [01:17<03:51,  1.06it/s]\u001b[A\n",
            "Iteration:  26% 86/330 [01:18<03:50,  1.06it/s]\u001b[A\n",
            "Iteration:  26% 87/330 [01:19<03:49,  1.06it/s]\u001b[A\n",
            "Iteration:  27% 88/330 [01:20<03:48,  1.06it/s]\u001b[A\n",
            "Iteration:  27% 89/330 [01:21<03:47,  1.06it/s]\u001b[A\n",
            "Iteration:  27% 90/330 [01:22<03:47,  1.06it/s]\u001b[A\n",
            "Iteration:  28% 91/330 [01:22<03:46,  1.06it/s]\u001b[A\n",
            "Iteration:  28% 92/330 [01:23<03:45,  1.06it/s]\u001b[A\n",
            "Iteration:  28% 93/330 [01:24<03:44,  1.05it/s]\u001b[A\n",
            "Iteration:  28% 94/330 [01:25<03:43,  1.05it/s]\u001b[A\n",
            "Iteration:  29% 95/330 [01:26<03:42,  1.05it/s]\u001b[A\n",
            "Iteration:  29% 96/330 [01:27<03:41,  1.05it/s]\u001b[A\n",
            "Iteration:  29% 97/330 [01:28<03:41,  1.05it/s]\u001b[A\n",
            "Iteration:  30% 98/330 [01:29<03:40,  1.05it/s]\u001b[A\n",
            "Iteration:  30% 99/330 [01:30<03:40,  1.05it/s]\u001b[A\n",
            "Iteration:  30% 100/330 [01:31<03:39,  1.05it/s]\u001b[A\n",
            "Iteration:  31% 101/330 [01:32<03:38,  1.05it/s]\u001b[A\n",
            "Iteration:  31% 102/330 [01:33<03:38,  1.05it/s]\u001b[A\n",
            "Iteration:  31% 103/330 [01:34<03:37,  1.04it/s]\u001b[A\n",
            "Iteration:  32% 104/330 [01:35<03:36,  1.04it/s]\u001b[A\n",
            "Iteration:  32% 105/330 [01:36<03:35,  1.04it/s]\u001b[A\n",
            "Iteration:  32% 106/330 [01:37<03:35,  1.04it/s]\u001b[A\n",
            "Iteration:  32% 107/330 [01:38<03:34,  1.04it/s]\u001b[A\n",
            "Iteration:  33% 108/330 [01:39<03:33,  1.04it/s]\u001b[A\n",
            "Iteration:  33% 109/330 [01:40<03:32,  1.04it/s]\u001b[A\n",
            "Iteration:  33% 110/330 [01:41<03:32,  1.04it/s]\u001b[A\n",
            "Iteration:  34% 111/330 [01:42<03:31,  1.04it/s]\u001b[A\n",
            "Iteration:  34% 112/330 [01:43<03:30,  1.04it/s]\u001b[A\n",
            "Iteration:  34% 113/330 [01:44<03:29,  1.03it/s]\u001b[A\n",
            "Iteration:  35% 114/330 [01:45<03:29,  1.03it/s]\u001b[A\n",
            "Iteration:  35% 115/330 [01:45<03:28,  1.03it/s]\u001b[A\n",
            "Iteration:  35% 116/330 [01:46<03:27,  1.03it/s]\u001b[A\n",
            "Iteration:  35% 117/330 [01:47<03:26,  1.03it/s]\u001b[A\n",
            "Iteration:  36% 118/330 [01:48<03:25,  1.03it/s]\u001b[A\n",
            "Iteration:  36% 119/330 [01:49<03:24,  1.03it/s]\u001b[A\n",
            "Iteration:  36% 120/330 [01:50<03:23,  1.03it/s]\u001b[A\n",
            "Iteration:  37% 121/330 [01:51<03:21,  1.03it/s]\u001b[A\n",
            "Iteration:  37% 122/330 [01:52<03:21,  1.03it/s]\u001b[A\n",
            "Iteration:  37% 123/330 [01:53<03:19,  1.04it/s]\u001b[A\n",
            "Iteration:  38% 124/330 [01:54<03:18,  1.04it/s]\u001b[A\n",
            "Iteration:  38% 125/330 [01:55<03:17,  1.04it/s]\u001b[A\n",
            "Iteration:  38% 126/330 [01:56<03:16,  1.04it/s]\u001b[A\n",
            "Iteration:  38% 127/330 [01:57<03:15,  1.04it/s]\u001b[A\n",
            "Iteration:  39% 128/330 [01:58<03:14,  1.04it/s]\u001b[A\n",
            "Iteration:  39% 129/330 [01:59<03:13,  1.04it/s]\u001b[A\n",
            "Iteration:  39% 130/330 [02:00<03:12,  1.04it/s]\u001b[A\n",
            "Iteration:  40% 131/330 [02:01<03:11,  1.04it/s]\u001b[A\n",
            "Iteration:  40% 132/330 [02:02<03:09,  1.04it/s]\u001b[A\n",
            "Iteration:  40% 133/330 [02:03<03:08,  1.04it/s]\u001b[A\n",
            "Iteration:  41% 134/330 [02:04<03:07,  1.05it/s]\u001b[A\n",
            "Iteration:  41% 135/330 [02:05<03:06,  1.05it/s]\u001b[A\n",
            "Iteration:  41% 136/330 [02:06<03:05,  1.05it/s]\u001b[A\n",
            "Iteration:  42% 137/330 [02:07<03:04,  1.05it/s]\u001b[A\n",
            "Iteration:  42% 138/330 [02:08<03:03,  1.05it/s]\u001b[A\n",
            "Iteration:  42% 139/330 [02:09<03:02,  1.05it/s]\u001b[A\n",
            "Iteration:  42% 140/330 [02:09<03:01,  1.05it/s]\u001b[A\n",
            "Iteration:  43% 141/330 [02:10<03:00,  1.05it/s]\u001b[A\n",
            "Iteration:  43% 142/330 [02:11<02:58,  1.05it/s]\u001b[A\n",
            "Iteration:  43% 143/330 [02:12<02:57,  1.05it/s]\u001b[A\n",
            "Iteration:  44% 144/330 [02:13<02:57,  1.05it/s]\u001b[A\n",
            "Iteration:  44% 145/330 [02:14<02:56,  1.05it/s]\u001b[A\n",
            "Iteration:  44% 146/330 [02:15<02:55,  1.05it/s]\u001b[A\n",
            "Iteration:  45% 147/330 [02:16<02:54,  1.05it/s]\u001b[A\n",
            "Iteration:  45% 148/330 [02:17<02:52,  1.05it/s]\u001b[A\n",
            "Iteration:  45% 149/330 [02:18<02:51,  1.05it/s]\u001b[A\n",
            "Iteration:  45% 150/330 [02:19<02:50,  1.06it/s]\u001b[A\n",
            "Iteration:  46% 151/330 [02:20<02:49,  1.05it/s]\u001b[A\n",
            "Iteration:  46% 152/330 [02:21<02:48,  1.05it/s]\u001b[A\n",
            "Iteration:  46% 153/330 [02:22<02:47,  1.06it/s]\u001b[A\n",
            "Iteration:  47% 154/330 [02:23<02:46,  1.06it/s]\u001b[A\n",
            "Iteration:  47% 155/330 [02:24<02:45,  1.05it/s]\u001b[A\n",
            "Iteration:  47% 156/330 [02:25<02:44,  1.06it/s]\u001b[A\n",
            "Iteration:  48% 157/330 [02:26<02:43,  1.06it/s]\u001b[A\n",
            "Iteration:  48% 158/330 [02:27<02:42,  1.06it/s]\u001b[A\n",
            "Iteration:  48% 159/330 [02:28<02:41,  1.06it/s]\u001b[A\n",
            "Iteration:  48% 160/330 [02:28<02:40,  1.06it/s]\u001b[A\n",
            "Iteration:  49% 161/330 [02:29<02:39,  1.06it/s]\u001b[A\n",
            "Iteration:  49% 162/330 [02:30<02:38,  1.06it/s]\u001b[A\n",
            "Iteration:  49% 163/330 [02:31<02:37,  1.06it/s]\u001b[A\n",
            "Iteration:  50% 164/330 [02:32<02:36,  1.06it/s]\u001b[A\n",
            "Iteration:  50% 165/330 [02:33<02:35,  1.06it/s]\u001b[A\n",
            "Iteration:  50% 166/330 [02:34<02:35,  1.06it/s]\u001b[A\n",
            "Iteration:  51% 167/330 [02:35<02:33,  1.06it/s]\u001b[A\n",
            "Iteration:  51% 168/330 [02:36<02:33,  1.06it/s]\u001b[A\n",
            "Iteration:  51% 169/330 [02:37<02:32,  1.06it/s]\u001b[A\n",
            "Iteration:  52% 170/330 [02:38<02:31,  1.06it/s]\u001b[A\n",
            "Iteration:  52% 171/330 [02:39<02:30,  1.06it/s]\u001b[A\n",
            "Iteration:  52% 172/330 [02:40<02:29,  1.06it/s]\u001b[A\n",
            "Iteration:  52% 173/330 [02:41<02:28,  1.06it/s]\u001b[A\n",
            "Iteration:  53% 174/330 [02:42<02:27,  1.06it/s]\u001b[A\n",
            "Iteration:  53% 175/330 [02:43<02:26,  1.06it/s]\u001b[A\n",
            "Iteration:  53% 176/330 [02:44<02:25,  1.05it/s]\u001b[A\n",
            "Iteration:  54% 177/330 [02:45<02:24,  1.06it/s]\u001b[A\n",
            "Iteration:  54% 178/330 [02:45<02:23,  1.06it/s]\u001b[A\n",
            "Iteration:  54% 179/330 [02:46<02:22,  1.06it/s]\u001b[A\n",
            "Iteration:  55% 180/330 [02:47<02:22,  1.06it/s]\u001b[A\n",
            "Iteration:  55% 181/330 [02:48<02:21,  1.06it/s]\u001b[A\n",
            "Iteration:  55% 182/330 [02:49<02:20,  1.06it/s]\u001b[A\n",
            "Iteration:  55% 183/330 [02:50<02:19,  1.05it/s]\u001b[A\n",
            "Iteration:  56% 184/330 [02:51<02:18,  1.05it/s]\u001b[A\n",
            "Iteration:  56% 185/330 [02:52<02:17,  1.05it/s]\u001b[A\n",
            "Iteration:  56% 186/330 [02:53<02:16,  1.05it/s]\u001b[A\n",
            "Iteration:  57% 187/330 [02:54<02:15,  1.05it/s]\u001b[A\n",
            "Iteration:  57% 188/330 [02:55<02:14,  1.05it/s]\u001b[A\n",
            "Iteration:  57% 189/330 [02:56<02:14,  1.05it/s]\u001b[A\n",
            "Iteration:  58% 190/330 [02:57<02:13,  1.05it/s]\u001b[A\n",
            "Iteration:  58% 191/330 [02:58<02:12,  1.05it/s]\u001b[A\n",
            "Iteration:  58% 192/330 [02:59<02:11,  1.05it/s]\u001b[A\n",
            "Iteration:  58% 193/330 [03:00<02:10,  1.05it/s]\u001b[A\n",
            "Iteration:  59% 194/330 [03:01<02:09,  1.05it/s]\u001b[A\n",
            "Iteration:  59% 195/330 [03:02<02:08,  1.05it/s]\u001b[A\n",
            "Iteration:  59% 196/330 [03:03<02:07,  1.05it/s]\u001b[A\n",
            "Iteration:  60% 197/330 [03:04<02:06,  1.05it/s]\u001b[A\n",
            "Iteration:  60% 198/330 [03:04<02:05,  1.05it/s]\u001b[A\n",
            "Iteration:  60% 199/330 [03:05<02:04,  1.05it/s]\u001b[A\n",
            "Iteration:  61% 200/330 [03:06<02:03,  1.05it/s]\u001b[A\n",
            "Iteration:  61% 201/330 [03:07<02:03,  1.05it/s]\u001b[A\n",
            "Iteration:  61% 202/330 [03:08<02:02,  1.05it/s]\u001b[A\n",
            "Iteration:  62% 203/330 [03:09<02:01,  1.05it/s]\u001b[A\n",
            "Iteration:  62% 204/330 [03:10<02:00,  1.05it/s]\u001b[A\n",
            "Iteration:  62% 205/330 [03:11<01:59,  1.05it/s]\u001b[A\n",
            "Iteration:  62% 206/330 [03:12<01:58,  1.05it/s]\u001b[A\n",
            "Iteration:  63% 207/330 [03:13<01:57,  1.05it/s]\u001b[A\n",
            "Iteration:  63% 208/330 [03:14<01:56,  1.05it/s]\u001b[A\n",
            "Iteration:  63% 209/330 [03:15<01:55,  1.05it/s]\u001b[A\n",
            "Iteration:  64% 210/330 [03:16<01:54,  1.05it/s]\u001b[A\n",
            "Iteration:  64% 211/330 [03:17<01:53,  1.05it/s]\u001b[A\n",
            "Iteration:  64% 212/330 [03:18<01:52,  1.05it/s]\u001b[A\n",
            "Iteration:  65% 213/330 [03:19<01:51,  1.05it/s]\u001b[A\n",
            "Iteration:  65% 214/330 [03:20<01:50,  1.05it/s]\u001b[A\n",
            "Iteration:  65% 215/330 [03:21<01:49,  1.05it/s]\u001b[A\n",
            "Iteration:  65% 216/330 [03:22<01:48,  1.05it/s]\u001b[A\n",
            "Iteration:  66% 217/330 [03:23<01:47,  1.05it/s]\u001b[A\n",
            "Iteration:  66% 218/330 [03:24<01:46,  1.05it/s]\u001b[A\n",
            "Iteration:  66% 219/330 [03:25<01:45,  1.05it/s]\u001b[A\n",
            "Iteration:  67% 220/330 [03:25<01:44,  1.05it/s]\u001b[A\n",
            "Iteration:  67% 221/330 [03:26<01:44,  1.05it/s]\u001b[A\n",
            "Iteration:  67% 222/330 [03:27<01:43,  1.05it/s]\u001b[A\n",
            "Iteration:  68% 223/330 [03:28<01:42,  1.05it/s]\u001b[A\n",
            "Iteration:  68% 224/330 [03:29<01:41,  1.05it/s]\u001b[A\n",
            "Iteration:  68% 225/330 [03:30<01:40,  1.05it/s]\u001b[A\n",
            "Iteration:  68% 226/330 [03:31<01:39,  1.05it/s]\u001b[A\n",
            "Iteration:  69% 227/330 [03:32<01:38,  1.05it/s]\u001b[A\n",
            "Iteration:  69% 228/330 [03:33<01:37,  1.05it/s]\u001b[A\n",
            "Iteration:  69% 229/330 [03:34<01:36,  1.05it/s]\u001b[A\n",
            "Iteration:  70% 230/330 [03:35<01:35,  1.05it/s]\u001b[A\n",
            "Iteration:  70% 231/330 [03:36<01:34,  1.05it/s]\u001b[A\n",
            "Iteration:  70% 232/330 [03:37<01:33,  1.05it/s]\u001b[A\n",
            "Iteration:  71% 233/330 [03:38<01:32,  1.05it/s]\u001b[A\n",
            "Iteration:  71% 234/330 [03:39<01:31,  1.05it/s]\u001b[A\n",
            "Iteration:  71% 235/330 [03:40<01:30,  1.05it/s]\u001b[A\n",
            "Iteration:  72% 236/330 [03:41<01:29,  1.05it/s]\u001b[A\n",
            "Iteration:  72% 237/330 [03:42<01:28,  1.05it/s]\u001b[A\n",
            "Iteration:  72% 238/330 [03:43<01:27,  1.05it/s]\u001b[A\n",
            "Iteration:  72% 239/330 [03:44<01:26,  1.05it/s]\u001b[A\n",
            "Iteration:  73% 240/330 [03:45<01:25,  1.05it/s]\u001b[A\n",
            "Iteration:  73% 241/330 [03:46<01:25,  1.05it/s]\u001b[A\n",
            "Iteration:  73% 242/330 [03:46<01:24,  1.05it/s]\u001b[A\n",
            "Iteration:  74% 243/330 [03:47<01:23,  1.05it/s]\u001b[A\n",
            "Iteration:  74% 244/330 [03:48<01:22,  1.05it/s]\u001b[A\n",
            "Iteration:  74% 245/330 [03:49<01:21,  1.05it/s]\u001b[A\n",
            "Iteration:  75% 246/330 [03:50<01:20,  1.05it/s]\u001b[A\n",
            "Iteration:  75% 247/330 [03:51<01:19,  1.05it/s]\u001b[A\n",
            "Iteration:  75% 248/330 [03:52<01:18,  1.05it/s]\u001b[A\n",
            "Iteration:  75% 249/330 [03:53<01:17,  1.05it/s]\u001b[A\n",
            "Iteration:  76% 250/330 [03:54<01:16,  1.05it/s]\u001b[A\n",
            "Iteration:  76% 251/330 [03:55<01:15,  1.05it/s]\u001b[A\n",
            "Iteration:  76% 252/330 [03:56<01:14,  1.05it/s]\u001b[A\n",
            "Iteration:  77% 253/330 [03:57<01:13,  1.05it/s]\u001b[A\n",
            "Iteration:  77% 254/330 [03:58<01:12,  1.05it/s]\u001b[A\n",
            "Iteration:  77% 255/330 [03:59<01:11,  1.05it/s]\u001b[A\n",
            "Iteration:  78% 256/330 [04:00<01:10,  1.05it/s]\u001b[A\n",
            "Iteration:  78% 257/330 [04:01<01:09,  1.05it/s]\u001b[A\n",
            "Iteration:  78% 258/330 [04:02<01:08,  1.05it/s]\u001b[A\n",
            "Iteration:  78% 259/330 [04:03<01:07,  1.05it/s]\u001b[A\n",
            "Iteration:  79% 260/330 [04:04<01:06,  1.05it/s]\u001b[A\n",
            "Iteration:  79% 261/330 [04:05<01:05,  1.05it/s]\u001b[A\n",
            "Iteration:  79% 262/330 [04:06<01:04,  1.05it/s]\u001b[A\n",
            "Iteration:  80% 263/330 [04:07<01:03,  1.05it/s]\u001b[A\n",
            "Iteration:  80% 264/330 [04:07<01:02,  1.05it/s]\u001b[A\n",
            "Iteration:  80% 265/330 [04:08<01:01,  1.05it/s]\u001b[A\n",
            "Iteration:  81% 266/330 [04:09<01:00,  1.05it/s]\u001b[A\n",
            "Iteration:  81% 267/330 [04:10<01:00,  1.05it/s]\u001b[A\n",
            "Iteration:  81% 268/330 [04:11<00:59,  1.05it/s]\u001b[A\n",
            "Iteration:  82% 269/330 [04:12<00:58,  1.05it/s]\u001b[A\n",
            "Iteration:  82% 270/330 [04:13<00:57,  1.05it/s]\u001b[A\n",
            "Iteration:  82% 271/330 [04:14<00:56,  1.05it/s]\u001b[A\n",
            "Iteration:  82% 272/330 [04:15<00:55,  1.04it/s]\u001b[A\n",
            "Iteration:  83% 273/330 [04:16<00:54,  1.05it/s]\u001b[A\n",
            "Iteration:  83% 274/330 [04:17<00:53,  1.05it/s]\u001b[A\n",
            "Iteration:  83% 275/330 [04:18<00:52,  1.05it/s]\u001b[A\n",
            "Iteration:  84% 276/330 [04:19<00:51,  1.05it/s]\u001b[A\n",
            "Iteration:  84% 277/330 [04:20<00:50,  1.05it/s]\u001b[A\n",
            "Iteration:  84% 278/330 [04:21<00:49,  1.05it/s]\u001b[A\n",
            "Iteration:  85% 279/330 [04:22<00:48,  1.05it/s]\u001b[A\n",
            "Iteration:  85% 280/330 [04:23<00:47,  1.05it/s]\u001b[A\n",
            "Iteration:  85% 281/330 [04:24<00:46,  1.05it/s]\u001b[A\n",
            "Iteration:  85% 282/330 [04:25<00:45,  1.05it/s]\u001b[A\n",
            "Iteration:  86% 283/330 [04:26<00:44,  1.05it/s]\u001b[A\n",
            "Iteration:  86% 284/330 [04:27<00:43,  1.05it/s]\u001b[A\n",
            "Iteration:  86% 285/330 [04:28<00:42,  1.05it/s]\u001b[A\n",
            "Iteration:  87% 286/330 [04:28<00:42,  1.05it/s]\u001b[A\n",
            "Iteration:  87% 287/330 [04:29<00:41,  1.05it/s]\u001b[A\n",
            "Iteration:  87% 288/330 [04:30<00:40,  1.05it/s]\u001b[A\n",
            "Iteration:  88% 289/330 [04:31<00:39,  1.05it/s]\u001b[A\n",
            "Iteration:  88% 290/330 [04:32<00:38,  1.05it/s]\u001b[A\n",
            "Iteration:  88% 291/330 [04:33<00:37,  1.05it/s]\u001b[A\n",
            "Iteration:  88% 292/330 [04:34<00:36,  1.05it/s]\u001b[A\n",
            "Iteration:  89% 293/330 [04:35<00:35,  1.05it/s]\u001b[A\n",
            "Iteration:  89% 294/330 [04:36<00:34,  1.05it/s]\u001b[A\n",
            "Iteration:  89% 295/330 [04:37<00:33,  1.05it/s]\u001b[A\n",
            "Iteration:  90% 296/330 [04:38<00:32,  1.05it/s]\u001b[A\n",
            "Iteration:  90% 297/330 [04:39<00:31,  1.05it/s]\u001b[A\n",
            "Iteration:  90% 298/330 [04:40<00:30,  1.05it/s]\u001b[A\n",
            "Iteration:  91% 299/330 [04:41<00:29,  1.05it/s]\u001b[A\n",
            "Iteration:  91% 300/330 [04:42<00:28,  1.05it/s]\u001b[A\n",
            "Iteration:  91% 301/330 [04:43<00:27,  1.05it/s]\u001b[A\n",
            "Iteration:  92% 302/330 [04:44<00:26,  1.05it/s]\u001b[A\n",
            "Iteration:  92% 303/330 [04:45<00:25,  1.05it/s]\u001b[A\n",
            "Iteration:  92% 304/330 [04:46<00:24,  1.05it/s]\u001b[A\n",
            "Iteration:  92% 305/330 [04:47<00:23,  1.05it/s]\u001b[A\n",
            "Iteration:  93% 306/330 [04:48<00:22,  1.05it/s]\u001b[A\n",
            "Iteration:  93% 307/330 [04:49<00:21,  1.05it/s]\u001b[A\n",
            "Iteration:  93% 308/330 [04:49<00:20,  1.05it/s]\u001b[A\n",
            "Iteration:  94% 309/330 [04:50<00:20,  1.05it/s]\u001b[A\n",
            "Iteration:  94% 310/330 [04:51<00:19,  1.05it/s]\u001b[A\n",
            "Iteration:  94% 311/330 [04:52<00:18,  1.05it/s]\u001b[A\n",
            "Iteration:  95% 312/330 [04:53<00:17,  1.05it/s]\u001b[A\n",
            "Iteration:  95% 313/330 [04:54<00:16,  1.05it/s]\u001b[A\n",
            "Iteration:  95% 314/330 [04:55<00:15,  1.05it/s]\u001b[A\n",
            "Iteration:  95% 315/330 [04:56<00:14,  1.05it/s]\u001b[A\n",
            "Iteration:  96% 316/330 [04:57<00:13,  1.05it/s]\u001b[A\n",
            "Iteration:  96% 317/330 [04:58<00:12,  1.05it/s]\u001b[A\n",
            "Iteration:  96% 318/330 [04:59<00:11,  1.05it/s]\u001b[A\n",
            "Iteration:  97% 319/330 [05:00<00:10,  1.05it/s]\u001b[A\n",
            "Iteration:  97% 320/330 [05:01<00:09,  1.05it/s]\u001b[A\n",
            "Iteration:  97% 321/330 [05:02<00:08,  1.05it/s]\u001b[A\n",
            "Iteration:  98% 322/330 [05:03<00:07,  1.05it/s]\u001b[A\n",
            "Iteration:  98% 323/330 [05:04<00:06,  1.05it/s]\u001b[A\n",
            "Iteration:  98% 324/330 [05:05<00:05,  1.05it/s]\u001b[A\n",
            "Iteration:  98% 325/330 [05:06<00:04,  1.05it/s]\u001b[A\n",
            "Iteration:  99% 326/330 [05:07<00:03,  1.05it/s]\u001b[A\n",
            "Iteration:  99% 327/330 [05:08<00:02,  1.05it/s]\u001b[A\n",
            "Iteration:  99% 328/330 [05:09<00:01,  1.05it/s]\u001b[A\n",
            "Iteration: 100% 329/330 [05:09<00:00,  1.05it/s]\u001b[A\n",
            "Iteration: 100% 330/330 [05:10<00:00,  1.06it/s]\n",
            "Epoch: 100% 1/1 [05:10<00:00, 310.92s/it]\n",
            "07/02/2021 10:03:50 - INFO - __main__ -    global_step = 330, average loss = 2.5409867192759656\n",
            "07/02/2021 10:03:50 - INFO - __main__ -   Saving model checkpoint to models/remarks\n"
          ],
          "name": "stdout"
        }
      ]
    },
    {
      "cell_type": "markdown",
      "metadata": {
        "id": "QvgntLymArg3"
      },
      "source": [
        "## Specify an input dialog, one utterance by line:\n"
      ]
    },
    {
      "cell_type": "code",
      "metadata": {
        "id": "479KpGv8KuUH"
      },
      "source": [
        "input_text = \"\"\"\n",
        "Ты когда-нибудь слушал тишину, Ежик?\t\n",
        "Слушал.\t\n",
        "И что?\t\n",
        "А ничего. Тихо.\t\n",
        "А я люблю, когда в тишине что-нибудь шевелится.\t\n",
        "Приведи пример.\t\n",
        "Ну, например, гром.\n",
        "\"\"\""
      ],
      "execution_count": 6,
      "outputs": []
    },
    {
      "cell_type": "markdown",
      "metadata": {
        "id": "K7_jIWhVBKay"
      },
      "source": [
        "### Some code"
      ]
    },
    {
      "cell_type": "code",
      "metadata": {
        "id": "csHcDJXFDdaW"
      },
      "source": [
        "import numpy as np\n",
        "import torch\n",
        "import transformers\n",
        "from transformers import GPT2LMHeadModel, GPT2Tokenizer\n",
        "transformers.logging.set_verbosity(transformers.logging.ERROR)\n",
        "\n",
        "MODEL_DIR = \"models/remarks\"\n",
        "tok = GPT2Tokenizer.from_pretrained(MODEL_DIR)\n",
        "model = GPT2LMHeadModel.from_pretrained(MODEL_DIR).cuda()\n",
        "\n",
        "def get_and_decorate_remark(utt):\n",
        "  text = f\"<s>{utt}<s>\"\n",
        "  inpt = tok.encode(text, return_tensors=\"pt\")\n",
        "  out = model.generate(inpt.cuda(), max_length=100, repetition_penalty=5.0, do_sample=True, top_k=5, top_p=0.95, temperature=1, eos_token_id=None)\n",
        "\n",
        "  raw_res = tok.decode(out[0])\n",
        "  remark = None\n",
        "  _, utterance, remark_raw = raw_res.split('<s>',2)\n",
        "  if '[' in remark_raw:\n",
        "    _, remark_raw = remark_raw.split('[',1)\n",
        "    if ']' in remark_raw:\n",
        "      remark, _ = remark_raw.split(']',1)\n",
        "  if remark:\n",
        "    return f'[{remark}] {utt}'\n",
        "  return f'{utt}'\n",
        "\n",
        "def render_remarks(input_text):\n",
        "  for line in input_text.strip().split('\\n'):\n",
        "    print(get_and_decorate_remark(line))"
      ],
      "execution_count": 12,
      "outputs": []
    },
    {
      "cell_type": "markdown",
      "metadata": {
        "id": "GUxTJ7lKLyX6"
      },
      "source": [
        "## Run to generate remarks:\n",
        "### (Repeat if you want another results)"
      ]
    },
    {
      "cell_type": "code",
      "metadata": {
        "id": "hQY6A5q7Bd4O",
        "colab": {
          "base_uri": "https://localhost:8080/"
        },
        "outputId": "135e976c-33f3-4dd4-c1e7-d1ff94218475"
      },
      "source": [
        "render_remarks(input_text)"
      ],
      "execution_count": 14,
      "outputs": [
        {
          "output_type": "stream",
          "text": [
            "[задумчиво] Ты когда-нибудь слушал тишину, Ежик?\t\n",
            "[не сразу] Слушал.\t\n",
            "[встает] И что?\t\n",
            "[снова] А ничего. Тихо.\t\n",
            "[смущенно] А я люблю, когда в тишине что-нибудь шевелится.\t\n",
            "[неожиданно] Приведи пример.\t\n",
            "[смеется] Ну, например, гром.\n"
          ],
          "name": "stdout"
        }
      ]
    },
    {
      "cell_type": "code",
      "metadata": {
        "id": "iy6hmIqerVBL"
      },
      "source": [
        ""
      ],
      "execution_count": null,
      "outputs": []
    }
  ]
}